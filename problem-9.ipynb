{
 "cells": [
  {
   "cell_type": "code",
   "execution_count": 1,
   "id": "26587d7b",
   "metadata": {},
   "outputs": [],
   "source": [
    "#Write a program that take a user input of three angles and will find out whether it can form a triangle or not."
   ]
  },
  {
   "cell_type": "code",
   "execution_count": 6,
   "id": "3f199955",
   "metadata": {},
   "outputs": [
    {
     "name": "stdout",
     "output_type": "stream",
     "text": [
      "enter the angle: 90\n",
      "enter the angel: 50\n",
      "enter the angel: 30\n",
      "it can't form a tringle\n"
     ]
    }
   ],
   "source": [
    "a = int(input(\"enter the angle: \"))\n",
    "b = int(input(\"enter the angel: \"))\n",
    "c = int(input(\"enter the angel: \"))\n",
    "if a+b+c == 180 and a != 0 and b != 0 and c !=0:\n",
    "    print(\"it can form a tringle\")\n",
    "else:\n",
    "    print(\"it can't form a tringle\")"
   ]
  },
  {
   "cell_type": "code",
   "execution_count": 7,
   "id": "aab572d3",
   "metadata": {},
   "outputs": [
    {
     "name": "stdout",
     "output_type": "stream",
     "text": [
      "enter the angle: 50\n",
      "enter the angel: 80\n",
      "enter the angel: 50\n",
      "it can form a tringle\n"
     ]
    }
   ],
   "source": [
    "a = int(input(\"enter the angle: \"))\n",
    "b = int(input(\"enter the angel: \"))\n",
    "c = int(input(\"enter the angel: \"))\n",
    "if a+b+c == 180 and a != 0 and b != 0 and c !=0:\n",
    "    print(\"it can form a tringle\")\n",
    "else:\n",
    "    print(\"it can't form a tringle\")"
   ]
  },
  {
   "cell_type": "code",
   "execution_count": null,
   "id": "7cc4c3d3",
   "metadata": {},
   "outputs": [],
   "source": []
  }
 ],
 "metadata": {
  "kernelspec": {
   "display_name": "Python 3 (ipykernel)",
   "language": "python",
   "name": "python3"
  },
  "language_info": {
   "codemirror_mode": {
    "name": "ipython",
    "version": 3
   },
   "file_extension": ".py",
   "mimetype": "text/x-python",
   "name": "python",
   "nbconvert_exporter": "python",
   "pygments_lexer": "ipython3",
   "version": "3.10.8"
  }
 },
 "nbformat": 4,
 "nbformat_minor": 5
}
